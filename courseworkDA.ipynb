{
  "nbformat": 4,
  "nbformat_minor": 0,
  "metadata": {
    "colab": {
      "provenance": [],
      "authorship_tag": "ABX9TyO/R7H3ne+dYcEVHv0f3ivc",
      "include_colab_link": true
    },
    "kernelspec": {
      "name": "python3",
      "display_name": "Python 3"
    },
    "language_info": {
      "name": "python"
    }
  },
  "cells": [
    {
      "cell_type": "markdown",
      "metadata": {
        "id": "view-in-github",
        "colab_type": "text"
      },
      "source": [
        "<a href=\"https://colab.research.google.com/github/nastyabekesheva/ScheduleBot/blob/main/courseworkDA.ipynb\" target=\"_parent\"><img src=\"https://colab.research.google.com/assets/colab-badge.svg\" alt=\"Open In Colab\"/></a>"
      ]
    },
    {
      "cell_type": "markdown",
      "source": [
        "# Title of work"
      ],
      "metadata": {
        "id": "58cqIQHT52Dw"
      }
    },
    {
      "cell_type": "markdown",
      "source": [
        ">[Title of work](#updateTitle=true&folderId=1Ecymhl-F5El_bJZajlCEbduGjsIrRvia&scrollTo=58cqIQHT52Dw)\n",
        "\n"
      ],
      "metadata": {
        "colab_type": "toc",
        "id": "mwfm8gXT59NQ"
      }
    },
    {
      "cell_type": "code",
      "execution_count": null,
      "metadata": {
        "id": "x_8T5YhH5n6O"
      },
      "outputs": [],
      "source": []
    }
  ]
}